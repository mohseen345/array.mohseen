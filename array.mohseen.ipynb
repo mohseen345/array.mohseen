{
 "cells": [
  {
   "cell_type": "markdown",
   "metadata": {},
   "source": [
    "1. Given an array, check if it contains any duplicates or not.  "
   ]
  },
  {
   "cell_type": "code",
   "execution_count": 1,
   "metadata": {},
   "outputs": [
    {
     "name": "stdout",
     "output_type": "stream",
     "text": [
      "True\n"
     ]
    }
   ],
   "source": [
    "def containsDuplicate(self, nums):\n",
    "        n = len(nums)\n",
    "        for i in range(n - 1):\n",
    "            for j in range(i + 1, n):\n",
    "                if nums[i] == nums[j]:\n",
    "                    return True\n",
    "        return False\n",
    "nums=[1,2,3,1,4,5]\n",
    "result=containsDuplicate(list,nums)\n",
    "print(result)"
   ]
  },
  {
   "cell_type": "markdown",
   "metadata": {},
   "source": [
    "2. Given an array and an integer k, rotate the array to the right by k steps.  ar"
   ]
  },
  {
   "cell_type": "code",
   "execution_count": 2,
   "metadata": {},
   "outputs": [
    {
     "name": "stdout",
     "output_type": "stream",
     "text": [
      "5\n",
      "6\n",
      "7\n",
      "1\n",
      "2\n",
      "3\n",
      "4\n",
      "None\n"
     ]
    }
   ],
   "source": [
    "def Rotationarray(a,n,k):\n",
    "    k=k%n\n",
    "    for i in range(0,n):\n",
    "        if i<k:\n",
    "            print(a[n+i-k],end=\"\")\n",
    "        else:\n",
    "            print(a[i-k], end=\"\")\n",
    "        print(\"\\n\",end=\"\")\n",
    "array=[1,2,3,4,5,6,7]\n",
    "n=len(array)\n",
    "k=3\n",
    "print(Rotationarray(array,n,k))"
   ]
  },
  {
   "cell_type": "markdown",
   "metadata": {},
   "source": [
    " 3.Reverse the given array in-place, means without using any extra data structure.  arr"
   ]
  },
  {
   "cell_type": "code",
   "execution_count": 3,
   "metadata": {},
   "outputs": [
    {
     "name": "stdout",
     "output_type": "stream",
     "text": [
      "Reversed Array: 12 9 7 5 4 2 "
     ]
    }
   ],
   "source": [
    "def reverse_array_extra_array(arr):\n",
    "    reversed_arr = arr[::-1]\n",
    "\n",
    "    # Print reversed array\n",
    "    print(\"Reversed Array:\", end=\" \")\n",
    "    for i in reversed_arr:\n",
    "        print(i, end=\" \")\n",
    "\n",
    "# Example usage:\n",
    "original_arr = [2,4,5,7,9,12]\n",
    "reverse_array_extra_array(original_arr)\n"
   ]
  },
  {
   "cell_type": "markdown",
   "metadata": {},
   "source": [
    "4.Given an array of integers, find the maximum element in an array  array"
   ]
  },
  {
   "cell_type": "code",
   "execution_count": 4,
   "metadata": {},
   "outputs": [
    {
     "name": "stdout",
     "output_type": "stream",
     "text": [
      "maximum_element is given 20\n"
     ]
    }
   ],
   "source": [
    "def maximum_element(arr,n):\n",
    "    mx=arr[0]\n",
    "    for i in range(1,n):\n",
    "        if arr[i]>mx:\n",
    "         mx=arr[i]\n",
    "    return mx\n",
    "arr=[10,5,20,8,15]\n",
    "n=len(arr)\n",
    "result=maximum_element(arr,n)\n",
    "print(\"maximum_element is given\",result)"
   ]
  },
  {
   "cell_type": "markdown",
   "metadata": {},
   "source": [
    "5. Given a sorted array, remove the duplicate element without using any extra data structure.  "
   ]
  },
  {
   "cell_type": "code",
   "execution_count": 9,
   "metadata": {},
   "outputs": [
    {
     "name": "stdout",
     "output_type": "stream",
     "text": [
      "1 2 3 4 5 "
     ]
    }
   ],
   "source": [
    "def remove_duplicates(arr):\n",
    "\tn = len(arr)\n",
    "\tif n <= 1:\n",
    "\t\treturn n\n",
    "\n",
    "\t# Use a set to store unique elements\n",
    "\tunique_elements = set(arr)\n",
    "\n",
    "\t# Update the original array with unique elements\n",
    "\tarr[:n] = unique_elements\n",
    "\n",
    "\t\n",
    "\treturn len(unique_elements)\n",
    "\n",
    "# Driver code\n",
    "\n",
    "arr = [1, 2, 2, 3,3, 4, 4, 4, 5, 5]\n",
    "\n",
    "\t# Remove duplicates and get the count of unique elements\n",
    "n = remove_duplicates(arr)\n",
    "\n",
    "\t# Print the modified array containing unique elements\n",
    "for i in range(n):\n",
    "\t\tprint(arr[i], end=\" \")"
   ]
  }
 ],
 "metadata": {
  "kernelspec": {
   "display_name": "Python 3",
   "language": "python",
   "name": "python3"
  },
  "language_info": {
   "codemirror_mode": {
    "name": "ipython",
    "version": 3
   },
   "file_extension": ".py",
   "mimetype": "text/x-python",
   "name": "python",
   "nbconvert_exporter": "python",
   "pygments_lexer": "ipython3",
   "version": "3.11.1"
  }
 },
 "nbformat": 4,
 "nbformat_minor": 2
}
